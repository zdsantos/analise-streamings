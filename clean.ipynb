{
 "cells": [
  {
   "cell_type": "code",
   "execution_count": 29,
   "metadata": {},
   "outputs": [],
   "source": [
    "import pandas as pd\n",
    "import numpy as np\n",
    "\n",
    "df = pd.read_csv(\"./data/base_unificada_v2.csv\")"
   ]
  },
  {
   "cell_type": "code",
   "execution_count": 21,
   "metadata": {},
   "outputs": [],
   "source": [
    "def change_column_value(dataframe, column_name, from_value, to_value):\n",
    "    return np.where(dataframe[column_name] == from_value, to_value, dataframe[column_name])"
   ]
  },
  {
   "cell_type": "code",
   "execution_count": 54,
   "metadata": {},
   "outputs": [
    {
     "data": {
      "text/plain": [
       "Drama                 7968\n",
       "Comedy                5369\n",
       "International         5350\n",
       "Documentary           2325\n",
       "Action & Adventure    1997\n",
       "                      ... \n",
       "Disaster                 2\n",
       "Romantic Comedy          2\n",
       "Talk Show                1\n",
       "Police/Cop               1\n",
       "Travel                   1\n",
       "Name: listed_in, Length: 80, dtype: int64"
      ]
     },
     "execution_count": 54,
     "metadata": {},
     "output_type": "execute_result"
    }
   ],
   "source": [
    "df[\"listed_in\"].value_counts()"
   ]
  },
  {
   "cell_type": "code",
   "execution_count": 45,
   "metadata": {},
   "outputs": [],
   "source": [
    "df[\"listed_in\"] = change_column_value(df, \"listed_in\", from_value=\"Action-Adventure\", to_value=\"Action & Adventure\")\n",
    "df[\"listed_in\"] = change_column_value(df, \"listed_in\", from_value=\"TV Action & Adventure\", to_value=\"Action & Adventure\")\n",
    "df[\"listed_in\"] = change_column_value(df, \"listed_in\", from_value=\"and Culture\", to_value=\"Culture\")\n",
    "df[\"listed_in\"] = change_column_value(df, \"listed_in\", from_value=\"Documentaries\", to_value=\"Documentary\")\n",
    "df[\"listed_in\"] = change_column_value(df, \"listed_in\", from_value=\"Comedies\", to_value=\"Comedy\")\n",
    "df[\"listed_in\"] = change_column_value(df, \"listed_in\", from_value=\"TV Comedies\", to_value=\"Comedy\")\n",
    "df[\"listed_in\"] = change_column_value(df, \"listed_in\", from_value=\"Dramas\", to_value=\"Drama\")\n",
    "df[\"listed_in\"] = change_column_value(df, \"listed_in\", from_value=\"TV Dramas\", to_value=\"Drama\")\n",
    "df[\"listed_in\"] = change_column_value(df, \"listed_in\", from_value=\"TV Horror\", to_value=\"Horror\")\n",
    "df[\"listed_in\"] = change_column_value(df, \"listed_in\", from_value=\"Horror Movies\", to_value=\"Horror\")\n",
    "df[\"listed_in\"] = change_column_value(df, \"listed_in\", from_value=\"Anime Series\", to_value=\"Anime\")\n",
    "df[\"listed_in\"] = change_column_value(df, \"listed_in\", from_value=\"Crime TV Shows\", to_value=\"Crime\")\n",
    "df[\"listed_in\"] = change_column_value(df, \"listed_in\", from_value=\"Documentaries\", to_value=\"Documentary\")\n",
    "df[\"listed_in\"] = change_column_value(df, \"listed_in\", from_value=\"Faith and Spirituality\", to_value=\"Faith & Spirituality\")\n",
    "df[\"listed_in\"] = change_column_value(df, \"listed_in\", from_value=\"Kids' TV\", to_value=\"Kids\")\n",
    "df[\"listed_in\"] = change_column_value(df, \"listed_in\", from_value=\"Korean TV Shows\", to_value=\"Korean\")\n",
    "df[\"listed_in\"] = change_column_value(df, \"listed_in\", from_value=\"LGBTQ Movies\", to_value=\"LGBTQ\")\n",
    "df[\"listed_in\"] = change_column_value(df, \"listed_in\", from_value=\"International Movies\", to_value=\"International\")\n",
    "df[\"listed_in\"] = change_column_value(df, \"listed_in\", from_value=\"International TV Shows\", to_value=\"International\")\n",
    "df[\"listed_in\"] = change_column_value(df, \"listed_in\", from_value=\"Stand-Up Comedy & Talk Shows\", to_value=\"Stand-Up Comedy\")\n",
    "df[\"listed_in\"] = change_column_value(df, \"listed_in\", from_value=\"Romantic Movies\", to_value=\"Romance\")\n",
    "df[\"listed_in\"] = change_column_value(df, \"listed_in\", from_value=\"Romantic TV Shows\", to_value=\"Romance\")\n",
    "df[\"listed_in\"] = change_column_value(df, \"listed_in\", from_value=\"Reality TV\", to_value=\"Reality\")\n",
    "df[\"listed_in\"] = change_column_value(df, \"listed_in\", from_value=\"Independent Movies\", to_value=\"Independent\")\n",
    "df[\"listed_in\"] = change_column_value(df, \"listed_in\", from_value=\"Thiller\", to_value=\"Thriller\")\n",
    "df[\"listed_in\"] = change_column_value(df, \"listed_in\", from_value=\"Thrillers\", to_value=\"Thriller\")\n",
    "df[\"listed_in\"] = change_column_value(df, \"listed_in\", from_value=\"TV Thrillers\", to_value=\"Thriller\")"
   ]
  },
  {
   "cell_type": "code",
   "execution_count": null,
   "metadata": {},
   "outputs": [],
   "source": [
    "df[\"listed_in\"].value_counts()"
   ]
  },
  {
   "cell_type": "code",
   "execution_count": 55,
   "metadata": {},
   "outputs": [],
   "source": [
    "df.to_csv(\"./data/base_unificada_v2.csv\", index=False)"
   ]
  }
 ],
 "metadata": {
  "kernelspec": {
   "display_name": "Python 3",
   "language": "python",
   "name": "python3"
  },
  "language_info": {
   "codemirror_mode": {
    "name": "ipython",
    "version": 3
   },
   "file_extension": ".py",
   "mimetype": "text/x-python",
   "name": "python",
   "nbconvert_exporter": "python",
   "pygments_lexer": "ipython3",
   "version": "3.10.2"
  },
  "orig_nbformat": 4
 },
 "nbformat": 4,
 "nbformat_minor": 2
}
