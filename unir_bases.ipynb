{
 "cells": [
  {
   "cell_type": "code",
   "execution_count": 2,
   "metadata": {},
   "outputs": [],
   "source": [
    "import pandas as pd\n",
    "df_netflix = pd.read_csv(\"./data/netflix_titles_separeted.csv\")\n",
    "df_amazon = pd.read_csv(\"./data/amazon_prime_titles_separeted.csv\")\n",
    "df_disney = pd.read_csv(\"./data/disney_plus_titles_separeted.csv\")"
   ]
  },
  {
   "cell_type": "code",
   "execution_count": 7,
   "metadata": {},
   "outputs": [],
   "source": [
    "df_netflix[\"source\"] = \"Netflix\"\n",
    "df_amazon[\"source\"] = \"Amazon Prime\"\n",
    "df_disney[\"source\"] = \"Disney Plus\""
   ]
  },
  {
   "cell_type": "code",
   "execution_count": 10,
   "metadata": {},
   "outputs": [],
   "source": [
    "unificado = pd.concat([df_netflix, df_amazon, df_disney])"
   ]
  },
  {
   "cell_type": "code",
   "execution_count": 13,
   "metadata": {},
   "outputs": [
    {
     "name": "stdout",
     "output_type": "stream",
     "text": [
      "(19323, 14)\n",
      "(18309, 14)\n",
      "(3910, 14)\n",
      "(41542, 14)\n"
     ]
    }
   ],
   "source": [
    "print(df_netflix.shape)\n",
    "print(df_amazon.shape)\n",
    "print(df_disney.shape)\n",
    "print(unificado.shape)"
   ]
  },
  {
   "cell_type": "code",
   "execution_count": 14,
   "metadata": {},
   "outputs": [],
   "source": [
    "unificado.to_csv(\"./data/base_unificada.csv\")"
   ]
  }
 ],
 "metadata": {
  "kernelspec": {
   "display_name": "Python 3",
   "language": "python",
   "name": "python3"
  },
  "language_info": {
   "codemirror_mode": {
    "name": "ipython",
    "version": 3
   },
   "file_extension": ".py",
   "mimetype": "text/x-python",
   "name": "python",
   "nbconvert_exporter": "python",
   "pygments_lexer": "ipython3",
   "version": "3.10.2"
  },
  "orig_nbformat": 4
 },
 "nbformat": 4,
 "nbformat_minor": 2
}
