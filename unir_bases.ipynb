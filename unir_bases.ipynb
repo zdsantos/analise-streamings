{
 "cells": [
  {
   "cell_type": "code",
   "execution_count": 16,
   "metadata": {},
   "outputs": [],
   "source": [
    "import pandas as pd\n",
    "df_netflix = pd.read_csv(\"./data/netflix_titles_separated.csv\");\n",
    "df_amazon = pd.read_csv(\"./data/amazon_prime_titles_separated.csv\");\n",
    "df_disney = pd.read_csv(\"./data/disney_plus_titles_separated.csv\");"
   ]
  },
  {
   "cell_type": "code",
   "execution_count": 10,
   "metadata": {},
   "outputs": [],
   "source": [
    "df_netflix[\"show_id\"] = list(map(lambda x: \"netflix_\"+x, df_netflix[\"show_id\"]))\n",
    "df_amazon[\"show_id\"] = list(map(lambda x: \"prime_\"+x, df_amazon[\"show_id\"]))\n",
    "df_disney[\"show_id\"] = list(map(lambda x: \"disney_\"+x, df_disney[\"show_id\"]))\n",
    "\n",
    "df_netflix[\"source\"] = \"Netflix\"\n",
    "df_amazon[\"source\"] = \"Amazon Prime\"\n",
    "df_disney[\"source\"] = \"Disney Plus\""
   ]
  },
  {
   "cell_type": "code",
   "execution_count": 11,
   "metadata": {},
   "outputs": [],
   "source": [
    "unificado = pd.concat([df_netflix, df_amazon, df_disney])"
   ]
  },
  {
   "cell_type": "code",
   "execution_count": 14,
   "metadata": {},
   "outputs": [
    {
     "name": "stdout",
     "output_type": "stream",
     "text": [
      "(19323, 13)\n",
      "(18309, 13)\n",
      "(3910, 13)\n",
      "(41542, 13)\n"
     ]
    }
   ],
   "source": [
    "print(df_netflix.shape)\n",
    "print(df_amazon.shape)\n",
    "print(df_disney.shape)\n",
    "print(unificado.shape)"
   ]
  },
  {
   "cell_type": "code",
   "execution_count": 15,
   "metadata": {},
   "outputs": [],
   "source": [
    "unificado.to_csv(\"./data/base_unificada.csv\", index=False)"
   ]
  }
 ],
 "metadata": {
  "kernelspec": {
   "display_name": "Python 3",
   "language": "python",
   "name": "python3"
  },
  "language_info": {
   "codemirror_mode": {
    "name": "ipython",
    "version": 3
   },
   "file_extension": ".py",
   "mimetype": "text/x-python",
   "name": "python",
   "nbconvert_exporter": "python",
   "pygments_lexer": "ipython3",
   "version": "3.10.2"
  },
  "orig_nbformat": 4
 },
 "nbformat": 4,
 "nbformat_minor": 2
}
